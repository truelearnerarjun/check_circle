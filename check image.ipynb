{
 "cells": [
  {
   "cell_type": "code",
   "execution_count": 2,
   "metadata": {},
   "outputs": [],
   "source": [
    "import cv2\n",
    "\n",
    "image = cv2.imread(\"glass circle.jpg\")\n",
    "gray_image = cv2.cvtColor(image,cv2.COLOR_BGR2GRAY)\n",
    "blurred_image = cv2.GaussianBlur(gray_image, (9, 9), 2)\n",
    "circles = cv2.HoughCircles(blurred_image, cv2.HOUGH_GRADIENT, dp=1.2, minDist=50, param1=100, param2=30, minRadius=10, maxRadius=100)\n",
    "\n"
   ]
  },
  {
   "cell_type": "code",
   "execution_count": 3,
   "metadata": {},
   "outputs": [
    {
     "name": "stdout",
     "output_type": "stream",
     "text": [
      "Circles detected in the image.\n"
     ]
    }
   ],
   "source": [
    "if circles is not None:\n",
    "    print(\"Circles detected in the image.\")\n",
    "    \n",
    "    circles = circles[0, :].astype(\"int\")\n",
    "    for (x, y, r) in circles:\n",
    "        cv2.circle(image, (x, y), r, (255,255,255), 4)\n",
    "    cv2.imshow(\"Detected Circles\", image)\n",
    "    cv2.waitKey(20)\n",
    "else:\n",
    "    print(\"No circles detected in the image.\")\n"
   ]
  }
 ],
 "metadata": {
  "kernelspec": {
   "display_name": "Python 3",
   "language": "python",
   "name": "python3"
  },
  "language_info": {
   "codemirror_mode": {
    "name": "ipython",
    "version": 3
   },
   "file_extension": ".py",
   "mimetype": "text/x-python",
   "name": "python",
   "nbconvert_exporter": "python",
   "pygments_lexer": "ipython3",
   "version": "3.10.11"
  }
 },
 "nbformat": 4,
 "nbformat_minor": 2
}
