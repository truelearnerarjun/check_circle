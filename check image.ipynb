{
 "cells": [
  {
   "cell_type": "code",
   "execution_count": 28,
   "metadata": {},
   "outputs": [],
   "source": [
    "import cv2\n",
    "import numpy as np\n",
    "\n",
    "def detect_circles(image_path):\n",
    "    # loading the image\n",
    "    image = cv2.imread(image_path)\n",
    "\n",
    "   \n",
    "    if image is None:\n",
    "        print(\"Error: Image not found.\")\n",
    "        return\n",
    "\n",
    "    \n",
    "    gray_image = cv2.cvtColor(image, cv2.COLOR_BGR2GRAY)\n",
    "\n",
    "    \n",
    "    blurred_image = cv2.GaussianBlur(gray_image, (9, 9), 2)\n",
    "\n",
    "    \n",
    "    circles = cv2.HoughCircles(\n",
    "        blurred_image,\n",
    "        cv2.HOUGH_GRADIENT,\n",
    "        dp=1.2,               \n",
    "        minDist=50,           \n",
    "        param1=100,           \n",
    "        param2=30,            \n",
    "        minRadius=10,         \n",
    "        maxRadius=100         \n",
    "    )\n",
    "\n",
    "    \n",
    "    if circles is not None:\n",
    "        # Convert circle coordinates and radius to integer values\n",
    "        circles = np.uint16(np.around(circles))\n",
    "\n",
    "\n",
    "        for circle in circles[0, :]:\n",
    "            center = (circle[0], circle[1])  \n",
    "            radius = circle[2]               \n",
    "            \n",
    "            cv2.circle(image, center, radius, (0, 255, 0), 2)  # Circle outline\n",
    "            \n",
    "            cv2.circle(image, center, 2, (0, 0, 255), 3)      \n",
    "\n",
    "        # Display the image with detected circles\n",
    "        cv2.imshow(\"Detected Circles\", image)\n",
    "        cv2.waitKey(0)  # waiting period to close window\n",
    "        cv2.destroyAllWindows()  \n",
    "\n",
    "        \n",
    "        output_path = \"detected_circles.png\"\n",
    "        cv2.imwrite(output_path, image)\n",
    "        print(f\"Detected circles saved to {output_path}.\")\n",
    "    else:\n",
    "        print(\"No circles detected in the image.\")\n",
    "\n",
    "\n",
    "image_path = \"rhombus.png\"  \n",
    "detect_circles(image_path)\n"
   ]
  },
  {
   "cell_type": "code",
   "execution_count": null,
   "metadata": {},
   "outputs": [],
   "source": [
    "\n"
   ]
  }
 ],
 "metadata": {
  "kernelspec": {
   "display_name": "Python 3",
   "language": "python",
   "name": "python3"
  },
  "language_info": {
   "codemirror_mode": {
    "name": "ipython",
    "version": 3
   },
   "file_extension": ".py",
   "mimetype": "text/x-python",
   "name": "python",
   "nbconvert_exporter": "python",
   "pygments_lexer": "ipython3",
   "version": "3.10.11"
  }
 },
 "nbformat": 4,
 "nbformat_minor": 2
}
