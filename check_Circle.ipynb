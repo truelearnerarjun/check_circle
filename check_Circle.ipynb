{
 "cells": [
  {
   "cell_type": "code",
   "execution_count": 8,
   "metadata": {},
   "outputs": [],
   "source": [
    "import cv2\n",
    "import numpy as np\n",
    "\n",
    "# Read image of planets\n",
    "input = cv2.imread(\"different shapes.png\")\n",
    "\n",
    "# Convert image to grayscale\n",
    "gray_img = cv2.cvtColor(input, cv2.COLOR_BGR2GRAY)\n",
    "\n",
    "# Apply median blur to the grayscale image\n",
    "img = cv2.medianBlur(gray_img, 5)\n",
    "\n",
    "# Convert blurred grayscale image back to BGR\n",
    "cimg = cv2.cvtColor(img, cv2.COLOR_GRAY2BGR)\n",
    "\n",
    "\n",
    "\n",
    "# - 1: the inverse ratio of the accumulator resolution to the image resolution\n",
    "# - 120: minimum distance between the centers of detected circles\n",
    "# - param1: higher threshold for the Canny edge detector\n",
    "# - param2: threshold for center detection\n",
    "\n",
    "circles = cv2.HoughCircles(img, cv2.HOUGH_GRADIENT, 1, 120, param1=100, param2=30, minRadius=0, maxRadius=0)\n",
    "\n",
    "# to check if if they are present in integer format\n",
    "circles = np.uint16(np.around(circles))\n",
    "\n",
    "# Loop through each detected circle\n",
    "for i in circles[0, : ] :\n",
    "    \n",
    "    cv2.circle(input, (i[0], i[1]), i[2], (0, 255, 0), 6)  # providing  cordinates of the circle\n",
    "\n",
    "    \n",
    "    cv2.circle(input, (i[0], i[1]), 2, (0, 0, 255), 3)\n",
    "\n",
    "# Display image with detected circles\n",
    "cv2.imshow(\"HoughCircles\", input)\n",
    "\n",
    "cv2.waitKey()\n",
    "\n",
    "cv2.destroyAllWindows()"
   ]
  }
 ],
 "metadata": {
  "kernelspec": {
   "display_name": "Python 3",
   "language": "python",
   "name": "python3"
  },
  "language_info": {
   "codemirror_mode": {
    "name": "ipython",
    "version": 3
   },
   "file_extension": ".py",
   "mimetype": "text/x-python",
   "name": "python",
   "nbconvert_exporter": "python",
   "pygments_lexer": "ipython3",
   "version": "3.10.11"
  }
 },
 "nbformat": 4,
 "nbformat_minor": 2
}
